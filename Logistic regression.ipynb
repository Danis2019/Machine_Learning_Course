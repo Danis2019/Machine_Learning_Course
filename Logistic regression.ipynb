{
 "cells": [
  {
   "cell_type": "markdown",
   "metadata": {},
   "source": [
    "# Библиотеки"
   ]
  },
  {
   "cell_type": "code",
   "execution_count": 178,
   "metadata": {},
   "outputs": [],
   "source": [
    "import pandas as pd\n",
    "import math\n",
    "import numpy as np\n",
    "from matplotlib import pyplot as plt\n",
    "from sklearn.metrics import roc_auc_score"
   ]
  },
  {
   "cell_type": "markdown",
   "metadata": {},
   "source": [
    "# Откроем и прочитаем файл"
   ]
  },
  {
   "cell_type": "code",
   "execution_count": 179,
   "metadata": {},
   "outputs": [
    {
     "data": {
      "text/html": [
       "<div>\n",
       "<style scoped>\n",
       "    .dataframe tbody tr th:only-of-type {\n",
       "        vertical-align: middle;\n",
       "    }\n",
       "\n",
       "    .dataframe tbody tr th {\n",
       "        vertical-align: top;\n",
       "    }\n",
       "\n",
       "    .dataframe thead th {\n",
       "        text-align: right;\n",
       "    }\n",
       "</style>\n",
       "<table border=\"1\" class=\"dataframe\">\n",
       "  <thead>\n",
       "    <tr style=\"text-align: right;\">\n",
       "      <th></th>\n",
       "      <th>0</th>\n",
       "      <th>1</th>\n",
       "      <th>2</th>\n",
       "    </tr>\n",
       "  </thead>\n",
       "  <tbody>\n",
       "    <tr>\n",
       "      <th>0</th>\n",
       "      <td>-1</td>\n",
       "      <td>-0.663827</td>\n",
       "      <td>-0.138526</td>\n",
       "    </tr>\n",
       "    <tr>\n",
       "      <th>1</th>\n",
       "      <td>1</td>\n",
       "      <td>1.994596</td>\n",
       "      <td>2.468025</td>\n",
       "    </tr>\n",
       "    <tr>\n",
       "      <th>2</th>\n",
       "      <td>-1</td>\n",
       "      <td>-1.247395</td>\n",
       "      <td>0.749425</td>\n",
       "    </tr>\n",
       "    <tr>\n",
       "      <th>3</th>\n",
       "      <td>1</td>\n",
       "      <td>2.309374</td>\n",
       "      <td>1.899836</td>\n",
       "    </tr>\n",
       "    <tr>\n",
       "      <th>4</th>\n",
       "      <td>1</td>\n",
       "      <td>0.849143</td>\n",
       "      <td>2.407750</td>\n",
       "    </tr>\n",
       "    <tr>\n",
       "      <th>...</th>\n",
       "      <td>...</td>\n",
       "      <td>...</td>\n",
       "      <td>...</td>\n",
       "    </tr>\n",
       "    <tr>\n",
       "      <th>200</th>\n",
       "      <td>1</td>\n",
       "      <td>4.245176</td>\n",
       "      <td>3.053931</td>\n",
       "    </tr>\n",
       "    <tr>\n",
       "      <th>201</th>\n",
       "      <td>1</td>\n",
       "      <td>2.437935</td>\n",
       "      <td>1.357804</td>\n",
       "    </tr>\n",
       "    <tr>\n",
       "      <th>202</th>\n",
       "      <td>-1</td>\n",
       "      <td>-1.876638</td>\n",
       "      <td>1.533398</td>\n",
       "    </tr>\n",
       "    <tr>\n",
       "      <th>203</th>\n",
       "      <td>1</td>\n",
       "      <td>-6.824446</td>\n",
       "      <td>-13.934211</td>\n",
       "    </tr>\n",
       "    <tr>\n",
       "      <th>204</th>\n",
       "      <td>-1</td>\n",
       "      <td>0.001805</td>\n",
       "      <td>0.865147</td>\n",
       "    </tr>\n",
       "  </tbody>\n",
       "</table>\n",
       "<p>205 rows × 3 columns</p>\n",
       "</div>"
      ],
      "text/plain": [
       "     0         1          2\n",
       "0   -1 -0.663827  -0.138526\n",
       "1    1  1.994596   2.468025\n",
       "2   -1 -1.247395   0.749425\n",
       "3    1  2.309374   1.899836\n",
       "4    1  0.849143   2.407750\n",
       "..  ..       ...        ...\n",
       "200  1  4.245176   3.053931\n",
       "201  1  2.437935   1.357804\n",
       "202 -1 -1.876638   1.533398\n",
       "203  1 -6.824446 -13.934211\n",
       "204 -1  0.001805   0.865147\n",
       "\n",
       "[205 rows x 3 columns]"
      ]
     },
     "execution_count": 179,
     "metadata": {},
     "output_type": "execute_result"
    }
   ],
   "source": [
    "data = pd.read_csv('data-logistic.csv', header=None)\n",
    "data"
   ]
  },
  {
   "cell_type": "markdown",
   "metadata": {},
   "source": [
    "# Раздели на признаки и ответы"
   ]
  },
  {
   "cell_type": "code",
   "execution_count": 180,
   "metadata": {},
   "outputs": [],
   "source": [
    "Y = data[0]\n",
    "X = np.array([data[1],data[2]])"
   ]
  },
  {
   "cell_type": "markdown",
   "metadata": {},
   "source": [
    "## Нарисуем целевую выборку"
   ]
  },
  {
   "cell_type": "code",
   "execution_count": 181,
   "metadata": {},
   "outputs": [],
   "source": [
    "# plt.scatter(X[0, Y == 1], X[1, Y == 1], c='green', label='+1')\n",
    "# plt.scatter(X[0, Y == -1], X[1, Y == -1], c='red', label='-1')\n",
    "# plt.xlabel(\"\")\n",
    "# plt.ylabel(\"\")\n",
    "# plt.title('Целевая выборка')\n",
    "# plt.legend();"
   ]
  },
  {
   "cell_type": "markdown",
   "metadata": {},
   "source": [
    "# Формула для весов в градиентном спуске"
   ]
  },
  {
   "cell_type": "markdown",
   "metadata": {},
   "source": [
    "### Способ 1"
   ]
  },
  {
   "cell_type": "code",
   "execution_count": 182,
   "metadata": {},
   "outputs": [],
   "source": [
    "def fw1(w1, w2, Y, X, k, C):\n",
    "    S = 0 \n",
    "    l = len(Y)\n",
    "    for i in range(0, l):\n",
    "        S += float(Y[i]) * X[0][i] * ( 1.0  - 1.0 / ( 1.0 + np.exp(- float(Y[i]) * (w1 * X[0][i] + w2 * X[1][i]) ) ) )\n",
    "    return w1 + k * S / l - k * C * w1"
   ]
  },
  {
   "cell_type": "code",
   "execution_count": 183,
   "metadata": {},
   "outputs": [],
   "source": [
    "def fw2(w1, w2, Y, X, k, C):\n",
    "    S = 0 \n",
    "    l = len(Y)\n",
    "    for i in range(0, l):\n",
    "        S += float(Y[i]) * X[1][i] * ( 1.0  - 1.0 / ( 1.0 + np.exp(- float(Y[i]) * (w1 * X[0][i] + w2 * X[1][i]) ) ) )\n",
    "    return w2 + k * S / l - k * C * w2"
   ]
  },
  {
   "cell_type": "markdown",
   "metadata": {},
   "source": [
    "### Способ 2"
   ]
  },
  {
   "cell_type": "code",
   "execution_count": 184,
   "metadata": {},
   "outputs": [],
   "source": [
    "def gradstep(l, xi1, xi2, k, yi, C, w1, w2):\n",
    "    w1 = w1 + k * np.mean(yi * xi2 * (1 - 1 / (1 + np.exp(-yi *(w1 * x1 + w2 * x2))))) - k * C * w1\n",
    "    w2 = w2 + k * np.mean(yi * xi2 * (1 - 1 / (1 + np.exp(-yi *(w1 * x1 + w2 * x2))))) - k * C * w2\n",
    "    return w1, w2"
   ]
  },
  {
   "cell_type": "markdown",
   "metadata": {},
   "source": [
    "# Реализация градиентного спуска для обычной и L2 - регуляризованной цепи"
   ]
  },
  {
   "cell_type": "code",
   "execution_count": 185,
   "metadata": {},
   "outputs": [],
   "source": [
    "# k - длина шага\n",
    "# X и Y соответственно признаки и ответы\n",
    "# w1 и w2 - которые равны 0 - начальные веса\n",
    "# err - евклидово расстояние между векторами весов должно быть не больше этотго значения"
   ]
  },
  {
   "cell_type": "code",
   "execution_count": 186,
   "metadata": {},
   "outputs": [],
   "source": [
    "def grad(Y, X, C = 0.0, w1 = 0.0, w2 = 0.0, k = 0.1, err = 1e-5):\n",
    "    i = 0\n",
    "    i_max = 1000000\n",
    "    w1_new, w2_new = w1, w2\n",
    "    \n",
    "    while(True):\n",
    "        i += 1\n",
    "        w1_new, w2_new = fw1(w1, w2, Y, X, k, C), fw2(w1, w2, Y, X, k, C)\n",
    "        e = math.sqrt((w1_new - w1) ** 2 + (w2_new - w2) ** 2)\n",
    "        if i >= i_max or e <= err:\n",
    "            break\n",
    "        else:\n",
    "            w1, w2 = w1_new, w2_new\n",
    " \n",
    "    return [w1_new, w2_new]"
   ]
  },
  {
   "cell_type": "markdown",
   "metadata": {},
   "source": [
    "# Запуск градиентного спуска"
   ]
  },
  {
   "cell_type": "code",
   "execution_count": 187,
   "metadata": {},
   "outputs": [],
   "source": [
    "w1, w2 = grad(Y, X)\n",
    "rw1, rw2 = grad(Y, X, 10.0)"
   ]
  },
  {
   "cell_type": "code",
   "execution_count": 188,
   "metadata": {},
   "outputs": [],
   "source": [
    "def a(X, w1, w2):\n",
    "    return 1.0 / (1.0 + math.exp(- w1 * X[0] - w2 * X[1]))"
   ]
  },
  {
   "cell_type": "code",
   "execution_count": 189,
   "metadata": {},
   "outputs": [],
   "source": [
    "X = pd.DataFrame(X.transpose())"
   ]
  },
  {
   "cell_type": "code",
   "execution_count": 190,
   "metadata": {},
   "outputs": [],
   "source": [
    "y_score = X.apply(lambda x: a(x, w1, w2), axis=1)\n",
    "y_rscore = X.apply(lambda x: a(x, rw1, rw2), axis=1)"
   ]
  },
  {
   "cell_type": "code",
   "execution_count": 191,
   "metadata": {},
   "outputs": [
    {
     "name": "stdout",
     "output_type": "stream",
     "text": [
      "0.9268571428571428\n",
      "0.9362857142857142\n"
     ]
    }
   ],
   "source": [
    "print(roc_auc_score(Y, y_score))\n",
    "print(roc_auc_score(Y, y_rscore))"
   ]
  },
  {
   "cell_type": "code",
   "execution_count": null,
   "metadata": {},
   "outputs": [],
   "source": []
  }
 ],
 "metadata": {
  "kernelspec": {
   "display_name": "Python 3",
   "language": "python",
   "name": "python3"
  },
  "language_info": {
   "codemirror_mode": {
    "name": "ipython",
    "version": 3
   },
   "file_extension": ".py",
   "mimetype": "text/x-python",
   "name": "python",
   "nbconvert_exporter": "python",
   "pygments_lexer": "ipython3",
   "version": "3.8.3"
  }
 },
 "nbformat": 4,
 "nbformat_minor": 4
}
